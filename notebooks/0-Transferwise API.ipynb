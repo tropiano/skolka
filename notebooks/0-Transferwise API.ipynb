{
 "cells": [
  {
   "cell_type": "code",
   "execution_count": 40,
   "metadata": {},
   "outputs": [],
   "source": [
    "import requests as r"
   ]
  },
  {
   "cell_type": "code",
   "execution_count": 41,
   "metadata": {},
   "outputs": [],
   "source": [
    "access_token = \"007223c1-1b37-4fdc-b8d1-60db71867e52\"\n",
    "#access_token = \"c2421641-e9f2-48ef-9df7-e8324d52ed1d\"\n",
    "\n",
    "headers_token = {\"Authorization\": \"Bearer {}\".format(access_token),\n",
    "                 \"Content-type\": \"application/json\"\n",
    "                }\n",
    "\n",
    "payload = {\"source\": \"EUR\",\n",
    "          \"target\": \"RUB\",\n",
    "          \"rateType\": \"FIXED\",\n",
    "          \"sourceAmount\": 1000,\n",
    "          \"type\": \"BALANCE_PAYOUT\",\n",
    "          \"profile\": 1528\n",
    "        }\n",
    "\n"
   ]
  },
  {
   "cell_type": "code",
   "execution_count": 42,
   "metadata": {},
   "outputs": [],
   "source": [
    "q = r.get(\"https://api.sandbox.transferwise.tech/v1/profiles\", headers=headers_token)"
   ]
  },
  {
   "cell_type": "code",
   "execution_count": 43,
   "metadata": {},
   "outputs": [
    {
     "data": {
      "text/plain": [
       "'[{\"id\":1527,\"type\":\"personal\",\"details\":{\"firstName\":\"Antonio\",\"lastName\":\"Tropiano\",\"dateOfBirth\":\"1979-08-25\",\"phoneNumber\":\"+442038087139\",\"avatar\":null,\"occupation\":null,\"primaryAddress\":7104795}},{\"id\":1528,\"type\":\"business\",\"details\":{\"name\":\"Antonio Tropiano Business\",\"registrationNumber\":\"07209813\",\"acn\":null,\"abn\":null,\"arbn\":null,\"companyType\":\"LIMITED\",\"companyRole\":\"OWNER\",\"descriptionOfBusiness\":\"IT_SERVICES\",\"primaryAddress\":7104796,\"webpage\":null,\"businessCategory\":\"IT_SERVICES\",\"businessSubCategory\":null}}]'"
      ]
     },
     "execution_count": 43,
     "metadata": {},
     "output_type": "execute_result"
    }
   ],
   "source": [
    "q.text\n",
    "\n"
   ]
  },
  {
   "cell_type": "code",
   "execution_count": 44,
   "metadata": {},
   "outputs": [
    {
     "data": {
      "text/plain": [
       "'{\"errors\":[{\"code\":\"BAD_REQUEST\",\"message\":\"JSON parse error: Unrecognized token \\'source\\': was expecting (\\'true\\', \\'false\\' or \\'null\\'); nested exception is com.fasterxml.jackson.core.JsonParseException: Unrecognized token \\'source\\': was expecting (\\'true\\', \\'false\\' or \\'null\\')\\\\n at [Source: java.io.PushbackInputStream@456d175f; line: 1, column: 8]\",\"arguments\":[]}]}'"
      ]
     },
     "execution_count": 44,
     "metadata": {},
     "output_type": "execute_result"
    }
   ],
   "source": [
    "q = r.post(\"https://api.sandbox.transferwise.tech/v1/quotes\", data = payload, headers=headers_token)\n",
    "q.text"
   ]
  },
  {
   "cell_type": "code",
   "execution_count": 62,
   "metadata": {},
   "outputs": [],
   "source": [
    "# 9000 eur to rub \n",
    "q_9eur = r.get(\"https://api.sandbox.transferwise.tech/v1/quotes?source=EUR&target=RUB&sourceAmount=9000&rateType=FIXED\")\n",
    "# 10000 eur to rub \n",
    "q_10eur = r.get(\"https://api.sandbox.transferwise.tech/v1/quotes?source=EUR&target=RUB&sourceAmount=10000&rateType=FIXED\")\n",
    "# 3000 eur to rub \n",
    "q_3eur = r.get(\"https://api.sandbox.transferwise.tech/v1/quotes?source=EUR&target=RUB&sourceAmount=3000&rateType=FIXED\")\n",
    "# 9000 gbp to rub \n",
    "q_9gbp = r.get(\"https://api.sandbox.transferwise.tech/v1/quotes?source=GBP&target=RUB&sourceAmount=9000&rateType=FIXED\")"
   ]
  },
  {
   "cell_type": "code",
   "execution_count": 63,
   "metadata": {},
   "outputs": [
    {
     "data": {
      "text/plain": [
       "{'source': 'EUR',\n",
       " 'target': 'RUB',\n",
       " 'sourceAmount': 9000.0,\n",
       " 'targetAmount': 635450.75,\n",
       " 'type': 'REGULAR',\n",
       " 'rate': 71.2348,\n",
       " 'createdTime': '2019-10-20T14:15:29.003Z',\n",
       " 'rateType': 'FIXED',\n",
       " 'deliveryEstimate': '2019-10-23T08:30:00.000Z',\n",
       " 'fee': 79.49,\n",
       " 'allowedProfileTypes': ['PERSONAL', 'BUSINESS'],\n",
       " 'guaranteedTargetAmount': False,\n",
       " 'ofSourceAmount': True}"
      ]
     },
     "execution_count": 63,
     "metadata": {},
     "output_type": "execute_result"
    }
   ],
   "source": [
    "q_9eur.json()"
   ]
  },
  {
   "cell_type": "code",
   "execution_count": 64,
   "metadata": {},
   "outputs": [],
   "source": [
    "total_rub = 2*q_9eur.json()[\"targetAmount\"] + q_10eur.json()[\"targetAmount\"] + 2*q_3eur.json()[\"targetAmount\"] + q_9gbp.json()[\"targetAmount\"]"
   ]
  },
  {
   "cell_type": "code",
   "execution_count": 65,
   "metadata": {},
   "outputs": [
    {
     "data": {
      "text/plain": [
       "3138667.27"
      ]
     },
     "execution_count": 65,
     "metadata": {},
     "output_type": "execute_result"
    }
   ],
   "source": [
    "total_rub\n"
   ]
  },
  {
   "cell_type": "code",
   "execution_count": null,
   "metadata": {},
   "outputs": [],
   "source": []
  }
 ],
 "metadata": {
  "kernelspec": {
   "display_name": "Python 3",
   "language": "python",
   "name": "python3"
  },
  "language_info": {
   "codemirror_mode": {
    "name": "ipython",
    "version": 3
   },
   "file_extension": ".py",
   "mimetype": "text/x-python",
   "name": "python",
   "nbconvert_exporter": "python",
   "pygments_lexer": "ipython3",
   "version": "3.6.8"
  }
 },
 "nbformat": 4,
 "nbformat_minor": 2
}
